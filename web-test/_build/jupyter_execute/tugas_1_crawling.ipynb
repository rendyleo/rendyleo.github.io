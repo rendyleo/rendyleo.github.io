{
 "cells": [
  {
   "cell_type": "markdown",
   "metadata": {
    "id": "ctmIWTyIViJb"
   },
   "source": [
    "# Crawling Web Berita CNBC Indonesia"
   ]
  },
  {
   "cell_type": "markdown",
   "metadata": {
    "id": "r8MjcHNNV5nh"
   },
   "source": [
    "## Apa itu Crawling?\n",
    "\n",
    "Crawling adalah proses di mana mesin pencari mengunjungi halaman-halaman web untuk menemukan dan mengindeks konten. Dalam proses ini, bot atau robot yang dikenal sebagai \"crawler\" atau \"spider\" mengumpulkan informasi dari berbagai halaman web untuk memastikan bahwa konten terbaru dan relevan tersedia dalam indeks mesin pencari.\n",
    "\n"
   ]
  },
  {
   "cell_type": "markdown",
   "metadata": {
    "id": "DmT8Wmo8WDd_"
   },
   "source": [
    "## Proses Crawling\n",
    "\n",
    "Pada contoh ini, proses crawling dilakukan pada website CNBC Indonesia untuk mengumpulkan data berita. Artikel-artikel berita akan diambil dari beberapa kategori yang berbeda, seperti Research, News, Tech, dan Market."
   ]
  },
  {
   "cell_type": "markdown",
   "metadata": {
    "id": "PpM-0GTtWNY9"
   },
   "source": [
    "## Tool atau libray yang diperlukan"
   ]
  },
  {
   "cell_type": "code",
   "execution_count": 1,
   "metadata": {
    "id": "pOBXk9C1Sn97"
   },
   "outputs": [],
   "source": [
    "import requests\n",
    "from bs4 import BeautifulSoup\n",
    "import pandas as pd\n",
    "import matplotlib.pyplot as plt"
   ]
  },
  {
   "cell_type": "code",
   "execution_count": 2,
   "metadata": {
    "colab": {
     "base_uri": "https://localhost:8080/"
    },
    "id": "gJINwhqZsHNf",
    "outputId": "ae5d5cac-d313-4ce2-ec55-9c99dcbb3629"
   },
   "outputs": [
    {
     "ename": "ModuleNotFoundError",
     "evalue": "No module named 'google'",
     "output_type": "error",
     "traceback": [
      "\u001b[0;31m---------------------------------------------------------------------------\u001b[0m",
      "\u001b[0;31mModuleNotFoundError\u001b[0m                       Traceback (most recent call last)",
      "Cell \u001b[0;32mIn[2], line 1\u001b[0m\n\u001b[0;32m----> 1\u001b[0m \u001b[38;5;28;01mfrom\u001b[39;00m \u001b[38;5;21;01mgoogle\u001b[39;00m\u001b[38;5;21;01m.\u001b[39;00m\u001b[38;5;21;01mcolab\u001b[39;00m \u001b[38;5;28;01mimport\u001b[39;00m drive\n\u001b[1;32m      2\u001b[0m drive\u001b[38;5;241m.\u001b[39mmount(\u001b[38;5;124m'\u001b[39m\u001b[38;5;124m/content/drive\u001b[39m\u001b[38;5;124m'\u001b[39m)\n",
      "\u001b[0;31mModuleNotFoundError\u001b[0m: No module named 'google'"
     ]
    }
   ],
   "source": [
    "from google.colab import drive\n",
    "drive.mount('/content/drive')"
   ]
  },
  {
   "cell_type": "markdown",
   "metadata": {
    "id": "BI5sazE7WZu-"
   },
   "source": [
    "\n",
    "- **Requests** digunakan untuk mengambil konten HTML/HTTP dari sebuah website.\n",
    "- **BeautifulSoup** berfungsi untuk mengurai dan memproses data dari HTML/XML.\n",
    "- **Pandas** digunakan untuk menyimpan data dalam format yang mudah dibaca dan diproses."
   ]
  },
  {
   "cell_type": "markdown",
   "metadata": {
    "id": "I50jpU9QWfwc"
   },
   "source": [
    "## Code Program"
   ]
  },
  {
   "cell_type": "markdown",
   "metadata": {
    "id": "ES9mNcl6Wmus"
   },
   "source": [
    "#### Inisialisasi Variabel dan URL"
   ]
  },
  {
   "cell_type": "code",
   "execution_count": 4,
   "metadata": {
    "id": "mozJuDBQSv58"
   },
   "outputs": [],
   "source": [
    "judul = []\n",
    "tanggal = []\n",
    "isi = []\n",
    "url_list = []\n",
    "kategori_list = []\n",
    "\n",
    "base_urls = [\n",
    "    \"https://www.cnbcindonesia.com/research/indeks/127/\",\n",
    "    \"https://www.cnbcindonesia.com/news/indeks/3/\",\n",
    "    \"https://www.cnbcindonesia.com/tech/indeks/12/\",\n",
    "    \"https://www.cnbcindonesia.com/market/indeks/5/\"\n",
    "]\n",
    "categories = [\n",
    "    \"Research\",\n",
    "    \"News\",\n",
    "    \"Tech\",\n",
    "    \"Market\"\n",
    "]"
   ]
  },
  {
   "cell_type": "markdown",
   "metadata": {
    "id": "cwcq13poWzeB"
   },
   "source": [
    "\n",
    "Variabel-variabel ini digunakan untuk menyimpan data yang akan diambil dari website. `base_urls` adalah daftar URL yang akan dikunjungi untuk mengambil artikel."
   ]
  },
  {
   "cell_type": "markdown",
   "metadata": {
    "id": "X5YSAfcNW20J"
   },
   "source": [
    "#### Proses Pengambilan Data"
   ]
  },
  {
   "cell_type": "code",
   "execution_count": 5,
   "metadata": {
    "id": "sPlhEuPKXJ1j"
   },
   "outputs": [],
   "source": [
    "payload = {'tipe': 'artikel'}\n",
    "\n",
    "for news, category in zip(base_urls, categories):\n",
    "    for page in range(1, 11):  # Mengambil dari halaman 1 hingga 10\n",
    "        url = f\"{news}{page}\"\n",
    "        response = requests.get(url, params=payload)\n",
    "        if response.status_code == 200:\n",
    "            soup = BeautifulSoup(response.content, \"html.parser\")\n",
    "            articles = soup.find_all(\"article\")\n",
    "\n",
    "            # Menambahkan kategori ke dalam list\n",
    "            kategori = category  # Menggunakan kategori dari list `categories`\n",
    "\n",
    "            # Pada kode dibawah ini akan mengunjungi satu persatu artikel yang ada di halaman ke-n\n",
    "            for article in articles:\n",
    "                link = article.find(\"a\")[\"href\"]  # Untuk mendapatkan link\n",
    "                article_response = requests.get(link)\n",
    "                if article_response.status_code == 200:\n",
    "                    articleFull = BeautifulSoup(article_response.content, \"html.parser\")\n",
    "                    judulArtikel = articleFull.find(\n",
    "                        \"h1\", class_=\"mb-4 text-32 font-extrabold\"\n",
    "                    ).text.strip()  # Untuk mendapatkan judul artikel\n",
    "                    tanggalArtikel = articleFull.find(\n",
    "                        \"div\", class_=\"text-cm text-gray\"\n",
    "                    ).text.strip()  # Untuk mendapatkan tanggal artikel diterbitkan\n",
    "\n",
    "                    # Isi artikel terdapat pada tag div dengan class detail-text\n",
    "                    artikel_element = articleFull.find(\"div\", class_=\"detail-text\")\n",
    "                    # Mengambil semua isi artikel yang terdapat di tag p\n",
    "                    artikelTeks = [p.get_text(strip=True) for p in artikel_element.find_all(\"p\")]\n",
    "                    artikel_content = \"\\n\".join(artikelTeks)\n",
    "\n",
    "                    # Menambahkan judul, tanggal, isi, dan url ke dalam list yang sudah diinisialisasikan\n",
    "                    judul.append(judulArtikel)\n",
    "                    tanggal.append(tanggalArtikel)\n",
    "                    isi.append(artikel_content)\n",
    "                    url_list.append(link)\n",
    "                    kategori_list.append(kategori)\n",
    "                else:\n",
    "                    print(f\"Error: {article_response.status_code}\")\n",
    "        else:\n",
    "            print(f\"Error : {response.status_code}\")"
   ]
  },
  {
   "cell_type": "markdown",
   "metadata": {
    "id": "AgYzkLG-YgW8"
   },
   "source": [
    "Setiap artikel diambil dan data seperti judul, tanggal, dan isi artikel diproses dan disimpan dalam list yang telah disiapkan. Jika ada error dalam pengambilan data, status error akan diprint"
   ]
  },
  {
   "cell_type": "markdown",
   "metadata": {
    "id": "1aySOWR3bRdS"
   },
   "source": [
    "##### Mengecek apakahh panjang hasil scrapping sama"
   ]
  },
  {
   "cell_type": "code",
   "execution_count": 6,
   "metadata": {
    "colab": {
     "base_uri": "https://localhost:8080/"
    },
    "id": "IPAxh5E3TKeP",
    "outputId": "2c054242-33d4-432e-a423-f7f2a51e0233"
   },
   "outputs": [
    {
     "name": "stdout",
     "output_type": "stream",
     "text": [
      "400 400 400 400 400\n"
     ]
    }
   ],
   "source": [
    "print(len(judul), len(tanggal), len(isi), len(url_list), len(kategori_list))"
   ]
  },
  {
   "cell_type": "markdown",
   "metadata": {
    "id": "0MKkRAcGbdjt"
   },
   "source": [
    "### Convert data ke dalam csv"
   ]
  },
  {
   "cell_type": "code",
   "execution_count": 7,
   "metadata": {
    "id": "uM-_hSs-TN2M"
   },
   "outputs": [],
   "source": [
    "# Membuat dataframe dari list data\n",
    "df = pd.DataFrame({\"judul\": judul, \"tanggal\": tanggal, \"isi\": isi, \"url\": url_list, \"kategori\": kategori_list})\n",
    "\n",
    "# Menyimpan dataframe ke file csv\n",
    "df.to_csv(\"data-artikel-cnbc.csv\", index=False)"
   ]
  },
  {
   "cell_type": "markdown",
   "metadata": {
    "id": "HwytvXGce22U"
   },
   "source": [
    "Setelah semua data dikumpulkan, data tersebut disimpan ke dalam sebuah dataframe menggunakan Pandas dan disimpan dalam format CSV untuk analisis lebih lanjut.\n"
   ]
  },
  {
   "cell_type": "code",
   "execution_count": 8,
   "metadata": {
    "colab": {
     "base_uri": "https://localhost:8080/",
     "height": 518
    },
    "id": "QZs5Hy56TeKv",
    "outputId": "bc6fba46-d542-4345-b04a-d93427b5508d"
   },
   "outputs": [
    {
     "data": {
      "application/vnd.google.colaboratory.intrinsic+json": {
       "summary": "{\n  \"name\": \"df\",\n  \"rows\": 400,\n  \"fields\": [\n    {\n      \"column\": \"judul\",\n      \"properties\": {\n        \"dtype\": \"string\",\n        \"num_unique_values\": 399,\n        \"samples\": [\n          \"BI Borong SBN di Pasar Perdana Rp62 T Jelang Akhir 2024\",\n          \"IHSG Merana Lagi, Nyaris Dekati 7.000-an\",\n          \"Ini Isi \\\"Kado\\\" Prabowo: Daftar Barang PPN 0%-Gaji Bebas Pajak\"\n        ],\n        \"semantic_type\": \"\",\n        \"description\": \"\"\n      }\n    },\n    {\n      \"column\": \"tanggal\",\n      \"properties\": {\n        \"dtype\": \"object\",\n        \"num_unique_values\": 387,\n        \"samples\": [\n          \"19 December 2024 09:55\",\n          \"19 December 2024 10:43\",\n          \"11 December 2024 07:15\"\n        ],\n        \"semantic_type\": \"\",\n        \"description\": \"\"\n      }\n    },\n    {\n      \"column\": \"isi\",\n      \"properties\": {\n        \"dtype\": \"string\",\n        \"num_unique_values\": 400,\n        \"samples\": [\n          \"Jakarta, CNBC Indonesia -Pihak DPR tengah mencermati usulan pembentukan aturan untuk mengatur batasan usia mengakses media sosial. Wakil Ketua Komisi I DPR RI Dave Fikarno Laksono mengatakan hal ini masih jadi pembahasan di media.\\n\\n\\\"Masih sekadar wacana yang sedang ramai dibahas di media. Saat ini DPR sedang reses, belum ada agenda rapat-rapat dahulu sampai mulai masa sidang yang berikutnya,\\\" kata Dave kepada wartawan dikutip dari Detik.com, Kamis (25/11/2024).\\n\\nAturan itu ramai dibahas di media sosial menyusul Australia yang mengesahkan UU terkait pembatasan usia penggunaan media sosial.\\n\\nUntuk saat ini, Dave mengatakan pihaknya masih menunggu usulan yang masuk. Komisi I baru akan membahas konsep aturan jika sudah ada kesepakatan dengan pemerintah.\\n\\\"Kita lihat gimana situasi nantinya, bilamana pemerintah sepakat untuk menindaklanjuti, bisa kita bahas konsepnya apa ke depan,\\\" kata dia.\\n\\nDave menambahkan belum bisa berbicara banyak. Termasuk apakah terkait pembatasan usia perlu dengan UU baru atau hanya dengan aturan turuna saja.\\n\\n\\\"Belum bisa dijawab dulu saat ini, apakah perlu sampai membuat UU baru atau cukup dengan produk turunan dari UU yang ada. Jadi kita lihat mau dibawa ke mana, ke depannya,\\\" tambahnya.\\n\\nDia mengatakan Komisi I memperhatikan usulan tersebut. Sebab menurutnya banyak dampak negatif saat anak-anak menggunakan medso.\\n\\nMisalnya menyebarkan hoaks hingga penjualan narkoba. Semua itu bisa merusak generasi muda Indonesia.\\n\\n\\\"Ini kita lihat dampak sisi gelap dari digitalisasi juga, selain akan judol, penyebaran konten pornografi, penjualan narkoba, penyebaran hoaks, serta ideologi yang melenceng. Semua hal ini berdampak akan merusak generasi muda bangsa,\\\" ucap Dave.\\n\\nNampaknya pemerintah Australia juga melihat dampak tersebut. \\\"Serta baru munculnya larangan penggunaan socmed untuk anak-anak di Australia, mendorong akan kebutuhan juga untuk Indonesia melakukan hal yang serupa,\\\" ungkap Dave.\",\n          \"Jakarta, CNBC Indonesia- Telkomsel melalui MyTelkomsel Super App menjalin kolaborasi strategis dengan Pos Indonesia melalui PosAja!. Upaya ini dilakukan guna menghadirkan solusi inovatif Kirim Barang.\\nTak hanya itu, layanan ini juga memberikan kemudahan bagi pelanggan untuk mengakses fitur pengiriman langsung dari satu aplikasi. Adapun kolaborasi ini merupakan langkah penting dalam memperkuat ekosistem digital nasional, mendukung pertumbuhan ekonomi inklusif, dan memberikan nilai tambah bagi pelanggan.\\nVice President Customer Journey and Digital Experience Telkomsel, Nirwan Lesmana mengatakan, melalui kolaborasi strategis ini, Telkomsel berkomitmen untuk terus menghadirkan solusi digital ecosystem yang menyediakan beragam kebutuhan pelanggan, tidak hanya solusi kebutuhan komunikasi, tetapi juga solusi kebutuhan harian seperti layanan lifestyle, entertainment, belanja, hingga pemesanan tiket pesawat dan hotel.\\n\\\"Kolaborasi antara Telkomsel dan POS Indonesia untuk menyediakan layanan Kirim Barang di MyTelkomsel juga selaras dengan misi Telkomsel untuk menyediakan konektivitas, layanan, dan solusi unggulan bagi masyarakat Indonesia,\\\" ujar dia dalam keterangan resminya, ditulis Senin (16/12/2024).\\nSementara itu, SVP Retail Business PT Pos Indonesia, Wilhelmina Lily Selanno menambahkan, kolaborasi ini merupakan bentuk sinergi yang memperkuat sektor pos dan telekomunikasi, memberikan kemudahan akses pengiriman barang kepada masyarakat Indonesia melalui satu aplikasi.\\n\\\"Langkah ini tidak hanya meningkatkan pengalaman pengguna, tetapi juga memperkuat posisi strategis Pos Indonesia dan Telkomsel dalam mendorong kemajuan ekosistem digital yang inklusif dan berkelanjutan di Indonesia,\\\" jelasnya.\\n\\n\\nDalam rangka peluncuran layanan Kirim Barang PosAja! di aplikasi MyTelkomsel Super App, yang bertepatan dengan Hari Belanja Online Nasional (Harbolnas) dan promo akhir tahun, Telkomsel dan Pos Indonesia memberikan potongan ongkos kirim melalui aplikasi MyTelkomsel dengan detail berikut:\\n\\u2022 Potongan ongkos kirim 12% pada 12-13 Desember 2024\\n\\u2022 Potongan ongkos kirim 22% pada 21-23 Desember 2024\\n\\u2022 Potongan ongkos kirim 25% pada 25 Desember 2024 hingga 1 Januari 2025\\nAsal tahu saja, layanan Kirim Barang PosAja! juga termasuk dalam promo Flash Sale Top Spender pada aplikasi MyTelkomsel Super App periode 12-19 Desember 2024, di mana pelanggan dengan pembelanjaan tertinggi berkesempatan memenangkan beragam Hadiah Harian dan Grand Prize seperti sepeda listrik, smartphone, smart TV, logam mulia, dan masih banyak lagi.\\n\\n\\nUntuk layanan Kirim Barang PosAja! melalui MyTelkomsel, pelanggan dapat mengakses dengan cara yang mudah, yakni:\\n\\u2022 Buka aplikasi MyTelkomsel.\\n\\u2022 Pada menu utama, pilih fitur \\\"Kirim Barang\\\".\\n\\u2022 Pilih \\\"Jenis Kiriman\\\", kemudian masukkan detail pengiriman.\\n\\u2022 Pilih \\\"Layanan Pengiriman\\\" dan tentukan layanan pos yang digunakan untuk pengiriman.\\n\\u2022 Pastikan alamat, ongkos kirim, dan metode pembayaran sudah sesuai.\\n\\u2022 Klik \\\"Order\\\" dan tunggu notifikasi bahwa order Kirim Barang telah berhasil.\\n\\u2022 Tim PosAja! akan datang ke alamat pelanggan untuk mengambil paket sesuai jadwal yang ditentukan.\\n\\u2022 Gunakan fitur \\\"Pelacakan Pengiriman\\\" di aplikasi MyTelkomsel untuk memantau status paket.\\nMelalui layanan Kirim Barang PosAja! di aplikasi MyTelkomsel, Telkomsel dan Pos Indonesia berharap untuk dapat terus berinovasi dan memperluas jangkauan layanan yang memberikan dampak positif bagi masyarakat Indonesia,dengan cara membuka berbagai peluang untuk pengembangan program bernilai tambah bagi pelanggan. Di antaranya mencakup bundling paket data dan pengiriman, layanan khusus UMKM, hingga penggabungan program loyalty antara MyTelkomsel dan PosAja!.\\nSebagai informasi, untuk akses lebih lengkap bisa langsung ke MyTelkomsel Super App. Untuk itu, pelanggan bisa mengunduhnya melalui App Store atau Play Store.\",\n          \"Jakarta, CNBC Indonesia-Pemerintah akan menaikkan tarif Pajak Pertambahan Nilai (PPN) menjadi 12% per 1 Januari 2025. Namun, tidak semua barang akan terkena kenaikan tarif. Pemerintah juga memberikan sejumlah insentif paket kebijakan ekonomi untuk mendorong daya beli.\"\n        ],\n        \"semantic_type\": \"\",\n        \"description\": \"\"\n      }\n    },\n    {\n      \"column\": \"url\",\n      \"properties\": {\n        \"dtype\": \"string\",\n        \"num_unique_values\": 400,\n        \"samples\": [\n          \"https://www.cnbcindonesia.com/tech/20241219141825-37-597331/heboh-larangan-medsos-buat-anak-ini-kata-dpr\",\n          \"https://www.cnbcindonesia.com/tech/20241216115355-37-596296/buat-yang-suka-kirim-barang-pos-aja-kini-hadir-di-mytelkomsel\",\n          \"https://www.cnbcindonesia.com/research/20241216163844-131-596423/ini-isi-kado-prabowo-daftar-barang-ppn-0-gaji-bebas-pajak\"\n        ],\n        \"semantic_type\": \"\",\n        \"description\": \"\"\n      }\n    },\n    {\n      \"column\": \"kategori\",\n      \"properties\": {\n        \"dtype\": \"category\",\n        \"num_unique_values\": 4,\n        \"samples\": [\n          \"News\",\n          \"Market\",\n          \"Research\"\n        ],\n        \"semantic_type\": \"\",\n        \"description\": \"\"\n      }\n    }\n  ]\n}",
       "type": "dataframe",
       "variable_name": "df"
      },
      "text/html": [
       "\n",
       "  <div id=\"df-a5bb861c-43d0-4ec3-aa67-ad656313129b\" class=\"colab-df-container\">\n",
       "    <div>\n",
       "<style scoped>\n",
       "    .dataframe tbody tr th:only-of-type {\n",
       "        vertical-align: middle;\n",
       "    }\n",
       "\n",
       "    .dataframe tbody tr th {\n",
       "        vertical-align: top;\n",
       "    }\n",
       "\n",
       "    .dataframe thead th {\n",
       "        text-align: right;\n",
       "    }\n",
       "</style>\n",
       "<table border=\"1\" class=\"dataframe\">\n",
       "  <thead>\n",
       "    <tr style=\"text-align: right;\">\n",
       "      <th></th>\n",
       "      <th>judul</th>\n",
       "      <th>tanggal</th>\n",
       "      <th>isi</th>\n",
       "      <th>url</th>\n",
       "      <th>kategori</th>\n",
       "    </tr>\n",
       "  </thead>\n",
       "  <tbody>\n",
       "    <tr>\n",
       "      <th>0</th>\n",
       "      <td>Waspada! ini Titik Rawan Macet di Tol Pulau Ja...</td>\n",
       "      <td>19 December 2024 17:35</td>\n",
       "      <td>Jakarta, CNBC Indonesia- Arus mudik periode li...</td>\n",
       "      <td>https://www.cnbcindonesia.com/research/2024121...</td>\n",
       "      <td>Research</td>\n",
       "    </tr>\n",
       "    <tr>\n",
       "      <th>1</th>\n",
       "      <td>Termasuk Alfamart, Ini Daftar 5 Raksasa Jaring...</td>\n",
       "      <td>19 December 2024 16:55</td>\n",
       "      <td>Jakarta,CNBC Indonesia-Indonesia menjadi rumah...</td>\n",
       "      <td>https://www.cnbcindonesia.com/research/2024121...</td>\n",
       "      <td>Research</td>\n",
       "    </tr>\n",
       "    <tr>\n",
       "      <th>2</th>\n",
       "      <td>Amukan Dolar AS Tak Terbendung, Rupiah Bernasi...</td>\n",
       "      <td>19 December 2024 14:30</td>\n",
       "      <td>Jakarta, CNBC Indonesia -Nilai tukar mata uang...</td>\n",
       "      <td>https://www.cnbcindonesia.com/research/2024121...</td>\n",
       "      <td>Research</td>\n",
       "    </tr>\n",
       "    <tr>\n",
       "      <th>3</th>\n",
       "      <td>Ini 6 BPR Syariah Terbaik Penopang Usaha Kecil...</td>\n",
       "      <td>19 December 2024 14:10</td>\n",
       "      <td>Jakarta, CNBC Indonesia -Bank Pembiayaan Rakya...</td>\n",
       "      <td>https://www.cnbcindonesia.com/research/2024121...</td>\n",
       "      <td>Research</td>\n",
       "    </tr>\n",
       "    <tr>\n",
       "      <th>4</th>\n",
       "      <td>Nasib CPO RI di Kala Hujan Tinggi Bawa Petaka ...</td>\n",
       "      <td>19 December 2024 14:05</td>\n",
       "      <td>Jakarta,CNBC Indonesia-Hujan, yang sering dian...</td>\n",
       "      <td>https://www.cnbcindonesia.com/research/2024121...</td>\n",
       "      <td>Research</td>\n",
       "    </tr>\n",
       "  </tbody>\n",
       "</table>\n",
       "</div>\n",
       "    <div class=\"colab-df-buttons\">\n",
       "\n",
       "  <div class=\"colab-df-container\">\n",
       "    <button class=\"colab-df-convert\" onclick=\"convertToInteractive('df-a5bb861c-43d0-4ec3-aa67-ad656313129b')\"\n",
       "            title=\"Convert this dataframe to an interactive table.\"\n",
       "            style=\"display:none;\">\n",
       "\n",
       "  <svg xmlns=\"http://www.w3.org/2000/svg\" height=\"24px\" viewBox=\"0 -960 960 960\">\n",
       "    <path d=\"M120-120v-720h720v720H120Zm60-500h600v-160H180v160Zm220 220h160v-160H400v160Zm0 220h160v-160H400v160ZM180-400h160v-160H180v160Zm440 0h160v-160H620v160ZM180-180h160v-160H180v160Zm440 0h160v-160H620v160Z\"/>\n",
       "  </svg>\n",
       "    </button>\n",
       "\n",
       "  <style>\n",
       "    .colab-df-container {\n",
       "      display:flex;\n",
       "      gap: 12px;\n",
       "    }\n",
       "\n",
       "    .colab-df-convert {\n",
       "      background-color: #E8F0FE;\n",
       "      border: none;\n",
       "      border-radius: 50%;\n",
       "      cursor: pointer;\n",
       "      display: none;\n",
       "      fill: #1967D2;\n",
       "      height: 32px;\n",
       "      padding: 0 0 0 0;\n",
       "      width: 32px;\n",
       "    }\n",
       "\n",
       "    .colab-df-convert:hover {\n",
       "      background-color: #E2EBFA;\n",
       "      box-shadow: 0px 1px 2px rgba(60, 64, 67, 0.3), 0px 1px 3px 1px rgba(60, 64, 67, 0.15);\n",
       "      fill: #174EA6;\n",
       "    }\n",
       "\n",
       "    .colab-df-buttons div {\n",
       "      margin-bottom: 4px;\n",
       "    }\n",
       "\n",
       "    [theme=dark] .colab-df-convert {\n",
       "      background-color: #3B4455;\n",
       "      fill: #D2E3FC;\n",
       "    }\n",
       "\n",
       "    [theme=dark] .colab-df-convert:hover {\n",
       "      background-color: #434B5C;\n",
       "      box-shadow: 0px 1px 3px 1px rgba(0, 0, 0, 0.15);\n",
       "      filter: drop-shadow(0px 1px 2px rgba(0, 0, 0, 0.3));\n",
       "      fill: #FFFFFF;\n",
       "    }\n",
       "  </style>\n",
       "\n",
       "    <script>\n",
       "      const buttonEl =\n",
       "        document.querySelector('#df-a5bb861c-43d0-4ec3-aa67-ad656313129b button.colab-df-convert');\n",
       "      buttonEl.style.display =\n",
       "        google.colab.kernel.accessAllowed ? 'block' : 'none';\n",
       "\n",
       "      async function convertToInteractive(key) {\n",
       "        const element = document.querySelector('#df-a5bb861c-43d0-4ec3-aa67-ad656313129b');\n",
       "        const dataTable =\n",
       "          await google.colab.kernel.invokeFunction('convertToInteractive',\n",
       "                                                    [key], {});\n",
       "        if (!dataTable) return;\n",
       "\n",
       "        const docLinkHtml = 'Like what you see? Visit the ' +\n",
       "          '<a target=\"_blank\" href=https://colab.research.google.com/notebooks/data_table.ipynb>data table notebook</a>'\n",
       "          + ' to learn more about interactive tables.';\n",
       "        element.innerHTML = '';\n",
       "        dataTable['output_type'] = 'display_data';\n",
       "        await google.colab.output.renderOutput(dataTable, element);\n",
       "        const docLink = document.createElement('div');\n",
       "        docLink.innerHTML = docLinkHtml;\n",
       "        element.appendChild(docLink);\n",
       "      }\n",
       "    </script>\n",
       "  </div>\n",
       "\n",
       "\n",
       "<div id=\"df-707735b9-6b3f-47fe-a374-45e2284dc4cf\">\n",
       "  <button class=\"colab-df-quickchart\" onclick=\"quickchart('df-707735b9-6b3f-47fe-a374-45e2284dc4cf')\"\n",
       "            title=\"Suggest charts\"\n",
       "            style=\"display:none;\">\n",
       "\n",
       "<svg xmlns=\"http://www.w3.org/2000/svg\" height=\"24px\"viewBox=\"0 0 24 24\"\n",
       "     width=\"24px\">\n",
       "    <g>\n",
       "        <path d=\"M19 3H5c-1.1 0-2 .9-2 2v14c0 1.1.9 2 2 2h14c1.1 0 2-.9 2-2V5c0-1.1-.9-2-2-2zM9 17H7v-7h2v7zm4 0h-2V7h2v10zm4 0h-2v-4h2v4z\"/>\n",
       "    </g>\n",
       "</svg>\n",
       "  </button>\n",
       "\n",
       "<style>\n",
       "  .colab-df-quickchart {\n",
       "      --bg-color: #E8F0FE;\n",
       "      --fill-color: #1967D2;\n",
       "      --hover-bg-color: #E2EBFA;\n",
       "      --hover-fill-color: #174EA6;\n",
       "      --disabled-fill-color: #AAA;\n",
       "      --disabled-bg-color: #DDD;\n",
       "  }\n",
       "\n",
       "  [theme=dark] .colab-df-quickchart {\n",
       "      --bg-color: #3B4455;\n",
       "      --fill-color: #D2E3FC;\n",
       "      --hover-bg-color: #434B5C;\n",
       "      --hover-fill-color: #FFFFFF;\n",
       "      --disabled-bg-color: #3B4455;\n",
       "      --disabled-fill-color: #666;\n",
       "  }\n",
       "\n",
       "  .colab-df-quickchart {\n",
       "    background-color: var(--bg-color);\n",
       "    border: none;\n",
       "    border-radius: 50%;\n",
       "    cursor: pointer;\n",
       "    display: none;\n",
       "    fill: var(--fill-color);\n",
       "    height: 32px;\n",
       "    padding: 0;\n",
       "    width: 32px;\n",
       "  }\n",
       "\n",
       "  .colab-df-quickchart:hover {\n",
       "    background-color: var(--hover-bg-color);\n",
       "    box-shadow: 0 1px 2px rgba(60, 64, 67, 0.3), 0 1px 3px 1px rgba(60, 64, 67, 0.15);\n",
       "    fill: var(--button-hover-fill-color);\n",
       "  }\n",
       "\n",
       "  .colab-df-quickchart-complete:disabled,\n",
       "  .colab-df-quickchart-complete:disabled:hover {\n",
       "    background-color: var(--disabled-bg-color);\n",
       "    fill: var(--disabled-fill-color);\n",
       "    box-shadow: none;\n",
       "  }\n",
       "\n",
       "  .colab-df-spinner {\n",
       "    border: 2px solid var(--fill-color);\n",
       "    border-color: transparent;\n",
       "    border-bottom-color: var(--fill-color);\n",
       "    animation:\n",
       "      spin 1s steps(1) infinite;\n",
       "  }\n",
       "\n",
       "  @keyframes spin {\n",
       "    0% {\n",
       "      border-color: transparent;\n",
       "      border-bottom-color: var(--fill-color);\n",
       "      border-left-color: var(--fill-color);\n",
       "    }\n",
       "    20% {\n",
       "      border-color: transparent;\n",
       "      border-left-color: var(--fill-color);\n",
       "      border-top-color: var(--fill-color);\n",
       "    }\n",
       "    30% {\n",
       "      border-color: transparent;\n",
       "      border-left-color: var(--fill-color);\n",
       "      border-top-color: var(--fill-color);\n",
       "      border-right-color: var(--fill-color);\n",
       "    }\n",
       "    40% {\n",
       "      border-color: transparent;\n",
       "      border-right-color: var(--fill-color);\n",
       "      border-top-color: var(--fill-color);\n",
       "    }\n",
       "    60% {\n",
       "      border-color: transparent;\n",
       "      border-right-color: var(--fill-color);\n",
       "    }\n",
       "    80% {\n",
       "      border-color: transparent;\n",
       "      border-right-color: var(--fill-color);\n",
       "      border-bottom-color: var(--fill-color);\n",
       "    }\n",
       "    90% {\n",
       "      border-color: transparent;\n",
       "      border-bottom-color: var(--fill-color);\n",
       "    }\n",
       "  }\n",
       "</style>\n",
       "\n",
       "  <script>\n",
       "    async function quickchart(key) {\n",
       "      const quickchartButtonEl =\n",
       "        document.querySelector('#' + key + ' button');\n",
       "      quickchartButtonEl.disabled = true;  // To prevent multiple clicks.\n",
       "      quickchartButtonEl.classList.add('colab-df-spinner');\n",
       "      try {\n",
       "        const charts = await google.colab.kernel.invokeFunction(\n",
       "            'suggestCharts', [key], {});\n",
       "      } catch (error) {\n",
       "        console.error('Error during call to suggestCharts:', error);\n",
       "      }\n",
       "      quickchartButtonEl.classList.remove('colab-df-spinner');\n",
       "      quickchartButtonEl.classList.add('colab-df-quickchart-complete');\n",
       "    }\n",
       "    (() => {\n",
       "      let quickchartButtonEl =\n",
       "        document.querySelector('#df-707735b9-6b3f-47fe-a374-45e2284dc4cf button');\n",
       "      quickchartButtonEl.style.display =\n",
       "        google.colab.kernel.accessAllowed ? 'block' : 'none';\n",
       "    })();\n",
       "  </script>\n",
       "</div>\n",
       "\n",
       "    </div>\n",
       "  </div>\n"
      ],
      "text/plain": [
       "                                               judul                 tanggal  \\\n",
       "0  Waspada! ini Titik Rawan Macet di Tol Pulau Ja...  19 December 2024 17:35   \n",
       "1  Termasuk Alfamart, Ini Daftar 5 Raksasa Jaring...  19 December 2024 16:55   \n",
       "2  Amukan Dolar AS Tak Terbendung, Rupiah Bernasi...  19 December 2024 14:30   \n",
       "3  Ini 6 BPR Syariah Terbaik Penopang Usaha Kecil...  19 December 2024 14:10   \n",
       "4  Nasib CPO RI di Kala Hujan Tinggi Bawa Petaka ...  19 December 2024 14:05   \n",
       "\n",
       "                                                 isi  \\\n",
       "0  Jakarta, CNBC Indonesia- Arus mudik periode li...   \n",
       "1  Jakarta,CNBC Indonesia-Indonesia menjadi rumah...   \n",
       "2  Jakarta, CNBC Indonesia -Nilai tukar mata uang...   \n",
       "3  Jakarta, CNBC Indonesia -Bank Pembiayaan Rakya...   \n",
       "4  Jakarta,CNBC Indonesia-Hujan, yang sering dian...   \n",
       "\n",
       "                                                 url  kategori  \n",
       "0  https://www.cnbcindonesia.com/research/2024121...  Research  \n",
       "1  https://www.cnbcindonesia.com/research/2024121...  Research  \n",
       "2  https://www.cnbcindonesia.com/research/2024121...  Research  \n",
       "3  https://www.cnbcindonesia.com/research/2024121...  Research  \n",
       "4  https://www.cnbcindonesia.com/research/2024121...  Research  "
      ]
     },
     "execution_count": 8,
     "metadata": {},
     "output_type": "execute_result"
    }
   ],
   "source": [
    "df.head()"
   ]
  },
  {
   "cell_type": "code",
   "execution_count": 9,
   "metadata": {
    "colab": {
     "base_uri": "https://localhost:8080/",
     "height": 241
    },
    "id": "ksYbYnX_nL2n",
    "outputId": "382d9689-112b-45f7-ee69-0d93959bbd1a"
   },
   "outputs": [
    {
     "data": {
      "text/html": [
       "<div>\n",
       "<style scoped>\n",
       "    .dataframe tbody tr th:only-of-type {\n",
       "        vertical-align: middle;\n",
       "    }\n",
       "\n",
       "    .dataframe tbody tr th {\n",
       "        vertical-align: top;\n",
       "    }\n",
       "\n",
       "    .dataframe thead th {\n",
       "        text-align: right;\n",
       "    }\n",
       "</style>\n",
       "<table border=\"1\" class=\"dataframe\">\n",
       "  <thead>\n",
       "    <tr style=\"text-align: right;\">\n",
       "      <th></th>\n",
       "      <th>count</th>\n",
       "    </tr>\n",
       "    <tr>\n",
       "      <th>kategori</th>\n",
       "      <th></th>\n",
       "    </tr>\n",
       "  </thead>\n",
       "  <tbody>\n",
       "    <tr>\n",
       "      <th>Research</th>\n",
       "      <td>100</td>\n",
       "    </tr>\n",
       "    <tr>\n",
       "      <th>News</th>\n",
       "      <td>100</td>\n",
       "    </tr>\n",
       "    <tr>\n",
       "      <th>Tech</th>\n",
       "      <td>100</td>\n",
       "    </tr>\n",
       "    <tr>\n",
       "      <th>Market</th>\n",
       "      <td>100</td>\n",
       "    </tr>\n",
       "  </tbody>\n",
       "</table>\n",
       "</div><br><label><b>dtype:</b> int64</label>"
      ],
      "text/plain": [
       "kategori\n",
       "Research    100\n",
       "News        100\n",
       "Tech        100\n",
       "Market      100\n",
       "Name: count, dtype: int64"
      ]
     },
     "execution_count": 9,
     "metadata": {},
     "output_type": "execute_result"
    }
   ],
   "source": [
    "df[\"kategori\"].value_counts()"
   ]
  },
  {
   "cell_type": "code",
   "execution_count": 10,
   "metadata": {
    "colab": {
     "base_uri": "https://localhost:8080/",
     "height": 499
    },
    "id": "SbzFdY4bnL2n",
    "outputId": "70184b40-b99d-43f9-c3ab-372a149338c8"
   },
   "outputs": [
    {
     "data": {
      "image/png": "[encoded data removed]",
      "text/plain": [
       "<Figure size 640x480 with 1 Axes>"
      ]
     },
     "metadata": {},
     "output_type": "display_data"
    }
   ],
   "source": [
    "df[\"kategori\"].value_counts().plot(kind=\"bar\")\n",
    "plt.show()"
   ]
  },
  {
   "cell_type": "markdown",
   "metadata": {
    "id": "SqYfCWHQe8S5"
   },
   "source": [
    "## Kesimpulan\n",
    "\n",
    "Dengan menggunakan requests, BeautifulSoup, dan Pandas, kita dapat melakukan web scraping untuk mengumpulkan data dari berbagai halaman web. Ini memungkinkan kita untuk menganalisis data dari website dengan lebih efisien."
   ]
  }
 ],
 "metadata": {
  "colab": {
   "provenance": []
  },
  "kernelspec": {
   "display_name": "Python 3 (ipykernel)",
   "language": "python",
   "name": "python3"
  },
  "language_info": {
   "codemirror_mode": {
    "name": "ipython",
    "version": 3
   },
   "file_extension": ".py",
   "mimetype": "text/x-python",
   "name": "python",
   "nbconvert_exporter": "python",
   "pygments_lexer": "ipython3",
   "version": "3.12.1"
  }
 },
 "nbformat": 4,
 "nbformat_minor": 0
}